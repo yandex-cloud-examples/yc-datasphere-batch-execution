{
 "cells": [
  {
   "cell_type": "markdown",
   "id": "2408321e",
   "metadata": {
    "cellId": "xk378gelplc1zpf8clq5v",
    "execution_id": "7091b0ef-bbd7-4af0-a0ed-aa63cf62d7a2"
   },
   "source": [
    "This example is taken from PyTorch tutorial: https://pytorch.org/tutorials/beginner/blitz/cifar10_tutorial.html"
   ]
  },
  {
   "cell_type": "markdown",
   "id": "613a49d3",
   "metadata": {
    "cellId": "ef73mu6xccdylll0cysqja",
    "execution_id": "56645db3-1fb4-4cb4-98b6-d0d9326522ea"
   },
   "source": [
    "Here you download a training sample of the CIFAR10 dataset and train the neural network described in the `my_nn_model.py` file. The trained model's weights will be saved to the `cifar_net.pth` file in the project storage."
   ]
  },
  {
   "cell_type": "code",
   "execution_count": 21,
   "id": "170a6c10",
   "metadata": {
    "cellId": "2dbsk78uc8h31uejknih0s"
   },
   "outputs": [],
   "source": [
    "import torch\n",
    "import torchvision\n",
    "import torchvision.transforms as transforms\n",
    "import torch.optim as optim\n",
    "from my_nn_model import Net"
   ]
  },
  {
   "cell_type": "code",
   "execution_count": 2,
   "id": "cd591a93",
   "metadata": {
    "cellId": "vmevytvtpvcx1vk690ttc"
   },
   "outputs": [
    {
     "name": "stdout",
     "output_type": "stream",
     "text": [
      "Downloading https://www.cs.toronto.edu/~kriz/cifar-10-python.tar.gz to ./data/cifar-10-python.tar.gz\n",
      "\n",
      "Extracting ./data/cifar-10-python.tar.gz to ./data\n",
      "Files already downloaded and verified\n"
     ]
    },
    {
     "data": {
      "application/vnd.jupyter.widget-view+json": {
       "model_id": "7cdfaf08c6e44cb98102797bff59aa12",
       "version_major": 2,
       "version_minor": 0
      },
      "text/plain": [
       "HBox(children=(HTML(value=''), FloatProgress(value=0.0, max=170498071.0), HTML(value='')))"
      ]
     },
     "metadata": {},
     "output_type": "display_data"
    }
   ],
   "source": [
    "transform = transforms.Compose(\n",
    "    [transforms.ToTensor(),\n",
    "     transforms.Normalize((0.5, 0.5, 0.5), (0.5, 0.5, 0.5))])\n",
    "\n",
    "batch_size = 4\n",
    "\n",
    "trainset = torchvision.datasets.CIFAR10(root='./data', train=True,\n",
    "                                        download=True, transform=transform)\n",
    "trainloader = torch.utils.data.DataLoader(trainset, batch_size=batch_size,\n",
    "                                          shuffle=True, num_workers=2)\n",
    "\n",
    "classes = ('plane', 'car', 'bird', 'cat',\n",
    "           'deer', 'dog', 'frog', 'horse', 'ship', 'truck')"
   ]
  },
  {
   "cell_type": "code",
   "execution_count": null,
   "id": "4b00540c",
   "metadata": {
    "cellId": "wrqzhvllgstkrtgj2t9t",
    "execution_id": "129f2966-cbc6-4fbc-8a31-41d3ba3b4764"
   },
   "outputs": [
    {
     "data": {
      "image/png": "[encoded data removed]",
      "text/plain": [
       "<Figure size 432x288 with 1 Axes>"
      ]
     },
     "metadata": {
      "needs_background": "light"
     },
     "output_type": "display_data"
    }
   ],
   "source": [
    "import matplotlib.pyplot as plt\n",
    "import numpy as np\n",
    "\n",
    "def imshow(img):\n",
    "    img = img / 2 + 0.5     # unnormalize\n",
    "    npimg = img.numpy()\n",
    "    plt.imshow(np.transpose(npimg, (1, 2, 0)))\n",
    "    plt.show()\n",
    "\n",
    "dataiter = iter(trainloader)\n",
    "images, labels = next(dataiter)\n",
    "imshow(torchvision.utils.make_grid(images))\n",
    "print(' '.join(f'{classes[labels[j]]:5s}' for j in range(batch_size)))"
   ]
  },
  {
   "cell_type": "code",
   "execution_count": 11,
   "id": "d45e231a",
   "metadata": {
    "cellId": "3azq67nodf6mqr8qvrrsi"
   },
   "outputs": [
    {
     "data": {
      "text/plain": [
       "device(type='cuda')"
      ]
     },
     "metadata": {},
     "output_type": "display_data"
    }
   ],
   "source": [
    "#!g1.1\n",
    "device = torch.device('cuda' if torch.cuda.is_available() else 'cpu')\n",
    "net = Net()\n",
    "net.to(device)\n",
    "\n",
    "criterion = nn.CrossEntropyLoss()\n",
    "optimizer = optim.SGD(net.parameters(), lr=0.001, momentum=0.9)"
   ]
  },
  {
   "cell_type": "code",
   "execution_count": 14,
   "id": "a23a81d6",
   "metadata": {
    "cellId": "ic0v2dfg6wbcjgd51c1cxw"
   },
   "outputs": [
    {
     "name": "stdout",
     "output_type": "stream",
     "text": [
      "[1,  2000] loss: 2.189\n",
      "[1,  4000] loss: 1.908\n",
      "[1,  6000] loss: 1.712\n",
      "[1,  8000] loss: 1.617\n",
      "[1, 10000] loss: 1.538\n",
      "[1, 12000] loss: 1.459\n",
      "[2,  2000] loss: 1.396\n",
      "[2,  4000] loss: 1.371\n",
      "[2,  6000] loss: 1.356\n",
      "[2,  8000] loss: 1.321\n",
      "[2, 10000] loss: 1.294\n",
      "[2, 12000] loss: 1.273\n",
      "Finished Training\n"
     ]
    }
   ],
   "source": [
    "#!g1.1\n",
    "for epoch in range(5): \n",
    "    running_loss = 0.0\n",
    "    for i, data in enumerate(trainloader, 0):\n",
    "        inputs, labels = data[0].to(device), data[1].to(device)\n",
    "\n",
    "        optimizer.zero_grad()\n",
    "\n",
    "        outputs = net(inputs)\n",
    "        loss = criterion(outputs, labels)\n",
    "        loss.backward()\n",
    "        optimizer.step()\n",
    "\n",
    "        running_loss += loss.item()\n",
    "        if i % 2000 == 1999:\n",
    "            print(f'[{epoch + 1}, {i + 1:5d}] loss: {running_loss / 2000:.3f}')\n",
    "            running_loss = 0.0\n",
    "\n",
    "print('Finished Training')"
   ]
  },
  {
   "cell_type": "code",
   "execution_count": 15,
   "id": "6687a9a0",
   "metadata": {
    "cellId": "r6h1791da4arzcmir7dgt"
   },
   "outputs": [],
   "source": [
    "#!g1.1\n",
    "torch.save(net.state_dict(), './cifar_net.pth')"
   ]
  }
 ],
 "metadata": {
  "language_info": {
   "codemirror_mode": {
    "name": "ipython",
    "version": 3
   },
   "file_extension": ".py",
   "mimetype": "text/x-python",
   "name": "python",
   "nbconvert_exporter": "python",
   "pygments_lexer": "ipython3",
   "version": "3.7.7"
  },
  "notebookId": "73b44395-1815-4bd1-a6da-ec183af936f0",
  "notebookPath": "train_classifier.ipynb"
 },
 "nbformat": 4,
 "nbformat_minor": 5
}
