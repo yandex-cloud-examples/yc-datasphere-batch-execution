{
 "cells": [
  {
   "cell_type": "markdown",
   "id": "d7abd8a1",
   "metadata": {
    "cellId": "g7fw4d3d8skob267vp679k",
    "execution_id": "f0bc704a-1f15-4ecb-84fd-058b87164eed"
   },
   "source": [
    "Here you upload the model architecture and weights created during model training. The model is used for predictions based on the test sample. The results will be saved to the `test_predictions.csv` file."
   ]
  },
  {
   "cell_type": "code",
   "execution_count": 21,
   "id": "9cfc39cb",
   "metadata": {
    "cellId": "ef3ujzk24hiatna7ro9okq"
   },
   "outputs": [],
   "source": [
    "#!g1.1\n",
    "import torch\n",
    "import torchvision\n",
    "import torchvision.transforms as transforms\n",
    "from my_nn_model import Net\n",
    "import pandas as pd"
   ]
  },
  {
   "cell_type": "code",
   "execution_count": 2,
   "id": "031da7b3",
   "metadata": {
    "cellId": "xg1859xuqfzoucwsygmg"
   },
   "outputs": [
    {
     "name": "stdout",
     "output_type": "stream",
     "text": [
      "Files already downloaded and verified\n"
     ]
    }
   ],
   "source": [
    "#!g1.1\n",
    "transform = transforms.Compose(\n",
    "    [transforms.ToTensor(),\n",
    "     transforms.Normalize((0.5, 0.5, 0.5), (0.5, 0.5, 0.5))])\n",
    "\n",
    "batch_size = 4\n",
    "\n",
    "testset = torchvision.datasets.CIFAR10(root='./data', train=False,\n",
    "                                       download=True, transform=transform)\n",
    "testloader = torch.utils.data.DataLoader(testset, batch_size=batch_size,\n",
    "                                         shuffle=False, num_workers=2)\n",
    "\n",
    "classes = ('plane', 'car', 'bird', 'cat',\n",
    "           'deer', 'dog', 'frog', 'horse', 'ship', 'truck')"
   ]
  },
  {
   "cell_type": "code",
   "execution_count": 3,
   "id": "78ea083a",
   "metadata": {
    "cellId": "pdzxr8r4x0rn94u821bq99"
   },
   "outputs": [],
   "source": [
    "#!g1.1\n",
    "device = torch.device('cuda' if torch.cuda.is_available() else 'cpu')"
   ]
  },
  {
   "cell_type": "code",
   "execution_count": 12,
   "id": "7afc2ce9",
   "metadata": {
    "cellId": "5txvu01zd2x43lahm92jw2"
   },
   "outputs": [],
   "source": [
    "#!g1.1\n",
    "net = Net()\n",
    "net.to(device)\n",
    "net.load_state_dict(torch.load('./cifar_net.pth'))\n",
    "\n",
    "predictions = []\n",
    "predicted_labels = []\n",
    "with torch.no_grad():\n",
    "    for data in testloader:\n",
    "        images, labels = data[0].to(device), data[1].to(device)\n",
    "        outputs = net(images)\n",
    "        _, predicted = torch.max(outputs.data, 1)\n",
    "        predictions.append(predicted.tolist())\n",
    "        predicted_labels.append([classes[predicted[j]] for j in range(batch_size)])"
   ]
  },
  {
   "cell_type": "code",
   "execution_count": 22,
   "id": "7dec1a98",
   "metadata": {
    "cellId": "s7g47dg8ipu2s2wuxi3sm"
   },
   "outputs": [],
   "source": [
    "#!g1.1\n",
    "final_pred = pd.DataFrame({'class_idx': [item for sublist in predictions for item in sublist],\n",
    "                           'class': [item for sublist in predicted_labels for item in sublist]})"
   ]
  },
  {
   "cell_type": "code",
   "execution_count": 26,
   "id": "062871d7",
   "metadata": {
    "cellId": "bqjxklxvd51bpqs7wp235"
   },
   "outputs": [],
   "source": [
    "#!g1.1\n",
    "final_pred.to_csv('test_predictions.csv')"
   ]
  }
 ],
 "metadata": {
  "language_info": {
   "codemirror_mode": {
    "name": "ipython",
    "version": 3
   },
   "file_extension": ".py",
   "mimetype": "text/x-python",
   "name": "python",
   "nbconvert_exporter": "python",
   "pygments_lexer": "ipython3",
   "version": "3.7.7"
  },
  "notebookId": "136ac88f-d24c-4a2d-ac1a-9dff3b75ca8c",
  "notebookPath": "test_classifier.ipynb"
 },
 "nbformat": 4,
 "nbformat_minor": 5
}
